{
  "cells": [
    {
      "cell_type": "markdown",
      "metadata": {
        "id": "view-in-github",
        "colab_type": "text"
      },
      "source": [
        "<a href=\"https://colab.research.google.com/github/Holsen-Gallegos/Ia-Fime/blob/main/Final_of_IA_PIA.ipynb\" target=\"_parent\"><img src=\"https://colab.research.google.com/assets/colab-badge.svg\" alt=\"Open In Colab\"/></a>"
      ]
    },
    {
      "cell_type": "markdown",
      "source": [
        "* Mariana Seany Zamarripa Puente #2109690\n",
        "* Zoe Daniela Vazquez Jurado #2023982\n",
        "* Reynaldo Holsen Gallegos Gonzalez #1963727"
      ],
      "metadata": {
        "id": "qXMhaoSB_J5x"
      }
    },
    {
      "cell_type": "code",
      "execution_count": 142,
      "metadata": {
        "id": "VR_XGCAvUlgG"
      },
      "outputs": [],
      "source": [
        "import tensorflow as tf\n",
        "from tensorflow.keras import layers, models\n",
        "from tensorflow.keras.utils import image_dataset_from_directory\n",
        "import matplotlib.pyplot as plt\n",
        "import numpy as np # Import numpy\n",
        "from pathlib import Path\n",
        "import matplotlib.pyplot as plt # Import matplotlib.pyplot\n",
        "import PIL\n",
        "from PIL import UnidentifiedImageError\n",
        "import pandas as pd\n",
        "# System libraries\n",
        "from pathlib import Path\n",
        "import os.path"
      ]
    },
    {
      "cell_type": "code",
      "execution_count": 143,
      "metadata": {
        "id": "bO5FBfI7cBdi"
      },
      "outputs": [],
      "source": [
        "from tensorflow.keras.models import Sequential\n",
        "from tensorflow.keras.layers import Dense, Conv2D, MaxPooling2D, Flatten  # etc.\n",
        "from tensorflow.keras.preprocessing.image import ImageDataGenerator\n"
      ]
    },
    {
      "cell_type": "code",
      "execution_count": 189,
      "metadata": {
        "colab": {
          "base_uri": "https://localhost:8080/",
          "height": 161
        },
        "id": "Le0eMFaYQ-oo",
        "outputId": "eb8daf7d-8a48-4b01-803e-4cad72eb13b6"
      },
      "outputs": [
        {
          "output_type": "display_data",
          "data": {
            "text/plain": [
              "<IPython.core.display.HTML object>"
            ],
            "text/html": [
              "\n",
              "     <input type=\"file\" id=\"files-17fab3a1-f5aa-45af-a42a-67c0dde2f7f5\" name=\"files[]\" multiple disabled\n",
              "        style=\"border:none\" />\n",
              "     <output id=\"result-17fab3a1-f5aa-45af-a42a-67c0dde2f7f5\">\n",
              "      Upload widget is only available when the cell has been executed in the\n",
              "      current browser session. Please rerun this cell to enable.\n",
              "      </output>\n",
              "      <script>// Copyright 2017 Google LLC\n",
              "//\n",
              "// Licensed under the Apache License, Version 2.0 (the \"License\");\n",
              "// you may not use this file except in compliance with the License.\n",
              "// You may obtain a copy of the License at\n",
              "//\n",
              "//      http://www.apache.org/licenses/LICENSE-2.0\n",
              "//\n",
              "// Unless required by applicable law or agreed to in writing, software\n",
              "// distributed under the License is distributed on an \"AS IS\" BASIS,\n",
              "// WITHOUT WARRANTIES OR CONDITIONS OF ANY KIND, either express or implied.\n",
              "// See the License for the specific language governing permissions and\n",
              "// limitations under the License.\n",
              "\n",
              "/**\n",
              " * @fileoverview Helpers for google.colab Python module.\n",
              " */\n",
              "(function(scope) {\n",
              "function span(text, styleAttributes = {}) {\n",
              "  const element = document.createElement('span');\n",
              "  element.textContent = text;\n",
              "  for (const key of Object.keys(styleAttributes)) {\n",
              "    element.style[key] = styleAttributes[key];\n",
              "  }\n",
              "  return element;\n",
              "}\n",
              "\n",
              "// Max number of bytes which will be uploaded at a time.\n",
              "const MAX_PAYLOAD_SIZE = 100 * 1024;\n",
              "\n",
              "function _uploadFiles(inputId, outputId) {\n",
              "  const steps = uploadFilesStep(inputId, outputId);\n",
              "  const outputElement = document.getElementById(outputId);\n",
              "  // Cache steps on the outputElement to make it available for the next call\n",
              "  // to uploadFilesContinue from Python.\n",
              "  outputElement.steps = steps;\n",
              "\n",
              "  return _uploadFilesContinue(outputId);\n",
              "}\n",
              "\n",
              "// This is roughly an async generator (not supported in the browser yet),\n",
              "// where there are multiple asynchronous steps and the Python side is going\n",
              "// to poll for completion of each step.\n",
              "// This uses a Promise to block the python side on completion of each step,\n",
              "// then passes the result of the previous step as the input to the next step.\n",
              "function _uploadFilesContinue(outputId) {\n",
              "  const outputElement = document.getElementById(outputId);\n",
              "  const steps = outputElement.steps;\n",
              "\n",
              "  const next = steps.next(outputElement.lastPromiseValue);\n",
              "  return Promise.resolve(next.value.promise).then((value) => {\n",
              "    // Cache the last promise value to make it available to the next\n",
              "    // step of the generator.\n",
              "    outputElement.lastPromiseValue = value;\n",
              "    return next.value.response;\n",
              "  });\n",
              "}\n",
              "\n",
              "/**\n",
              " * Generator function which is called between each async step of the upload\n",
              " * process.\n",
              " * @param {string} inputId Element ID of the input file picker element.\n",
              " * @param {string} outputId Element ID of the output display.\n",
              " * @return {!Iterable<!Object>} Iterable of next steps.\n",
              " */\n",
              "function* uploadFilesStep(inputId, outputId) {\n",
              "  const inputElement = document.getElementById(inputId);\n",
              "  inputElement.disabled = false;\n",
              "\n",
              "  const outputElement = document.getElementById(outputId);\n",
              "  outputElement.innerHTML = '';\n",
              "\n",
              "  const pickedPromise = new Promise((resolve) => {\n",
              "    inputElement.addEventListener('change', (e) => {\n",
              "      resolve(e.target.files);\n",
              "    });\n",
              "  });\n",
              "\n",
              "  const cancel = document.createElement('button');\n",
              "  inputElement.parentElement.appendChild(cancel);\n",
              "  cancel.textContent = 'Cancel upload';\n",
              "  const cancelPromise = new Promise((resolve) => {\n",
              "    cancel.onclick = () => {\n",
              "      resolve(null);\n",
              "    };\n",
              "  });\n",
              "\n",
              "  // Wait for the user to pick the files.\n",
              "  const files = yield {\n",
              "    promise: Promise.race([pickedPromise, cancelPromise]),\n",
              "    response: {\n",
              "      action: 'starting',\n",
              "    }\n",
              "  };\n",
              "\n",
              "  cancel.remove();\n",
              "\n",
              "  // Disable the input element since further picks are not allowed.\n",
              "  inputElement.disabled = true;\n",
              "\n",
              "  if (!files) {\n",
              "    return {\n",
              "      response: {\n",
              "        action: 'complete',\n",
              "      }\n",
              "    };\n",
              "  }\n",
              "\n",
              "  for (const file of files) {\n",
              "    const li = document.createElement('li');\n",
              "    li.append(span(file.name, {fontWeight: 'bold'}));\n",
              "    li.append(span(\n",
              "        `(${file.type || 'n/a'}) - ${file.size} bytes, ` +\n",
              "        `last modified: ${\n",
              "            file.lastModifiedDate ? file.lastModifiedDate.toLocaleDateString() :\n",
              "                                    'n/a'} - `));\n",
              "    const percent = span('0% done');\n",
              "    li.appendChild(percent);\n",
              "\n",
              "    outputElement.appendChild(li);\n",
              "\n",
              "    const fileDataPromise = new Promise((resolve) => {\n",
              "      const reader = new FileReader();\n",
              "      reader.onload = (e) => {\n",
              "        resolve(e.target.result);\n",
              "      };\n",
              "      reader.readAsArrayBuffer(file);\n",
              "    });\n",
              "    // Wait for the data to be ready.\n",
              "    let fileData = yield {\n",
              "      promise: fileDataPromise,\n",
              "      response: {\n",
              "        action: 'continue',\n",
              "      }\n",
              "    };\n",
              "\n",
              "    // Use a chunked sending to avoid message size limits. See b/62115660.\n",
              "    let position = 0;\n",
              "    do {\n",
              "      const length = Math.min(fileData.byteLength - position, MAX_PAYLOAD_SIZE);\n",
              "      const chunk = new Uint8Array(fileData, position, length);\n",
              "      position += length;\n",
              "\n",
              "      const base64 = btoa(String.fromCharCode.apply(null, chunk));\n",
              "      yield {\n",
              "        response: {\n",
              "          action: 'append',\n",
              "          file: file.name,\n",
              "          data: base64,\n",
              "        },\n",
              "      };\n",
              "\n",
              "      let percentDone = fileData.byteLength === 0 ?\n",
              "          100 :\n",
              "          Math.round((position / fileData.byteLength) * 100);\n",
              "      percent.textContent = `${percentDone}% done`;\n",
              "\n",
              "    } while (position < fileData.byteLength);\n",
              "  }\n",
              "\n",
              "  // All done.\n",
              "  yield {\n",
              "    response: {\n",
              "      action: 'complete',\n",
              "    }\n",
              "  };\n",
              "}\n",
              "\n",
              "scope.google = scope.google || {};\n",
              "scope.google.colab = scope.google.colab || {};\n",
              "scope.google.colab._files = {\n",
              "  _uploadFiles,\n",
              "  _uploadFilesContinue,\n",
              "};\n",
              "})(self);\n",
              "</script> "
            ]
          },
          "metadata": {}
        },
        {
          "output_type": "stream",
          "name": "stdout",
          "text": [
            "Saving kaggle.json to kaggle (2).json\n",
            "Dataset URL: https://www.kaggle.com/datasets/uraninjo/augmented-alzheimer-mri-dataset\n",
            "License(s): GNU Lesser General Public License 3.0\n",
            "augmented-alzheimer-mri-dataset.zip: Skipping, found more recently modified local copy (use --force to force download)\n",
            "replace alzheimer_data/AugmentedAlzheimerDataset/MildDemented/00046ff7-0fae-4796-9a2b-2df47095bfe6.jpg? [y]es, [n]o, [A]ll, [N]one, [r]ename: A\n"
          ]
        }
      ],
      "source": [
        "# Subir tu archivo kaggle.json desde tu cuenta\n",
        "from google.colab import files\n",
        "files.upload()  # <-- Aquí sube tu kaggle.json\n",
        "\n",
        "# Crear la carpeta y copiar el archivo\n",
        "!pip install -q kaggle\n",
        "!mkdir -p ~/.kaggle\n",
        "!cp kaggle.json ~/.kaggle/\n",
        "!chmod 600 ~/.kaggle/kaggle.json\n",
        "\n",
        "# Descargar el dataset\n",
        "!kaggle datasets download -d uraninjo/augmented-alzheimer-mri-dataset\n",
        "!unzip -q augmented-alzheimer-mri-dataset.zip -d alzheimer_data\n"
      ]
    },
    {
      "source": [
        "import os\n",
        "import pandas as pd\n",
        "from sklearn.model_selection import train_test_split\n",
        "\n",
        "# Update the base directory to where the dataset was unzipped\n",
        "base_dir = r'./alzheimer_data/AugmentedAlzheimerDataset'\n",
        "\n",
        "MildDemented_dir = os.path.join(base_dir, 'MildDemented')\n",
        "ModerateDemented_dir = os.path.join(base_dir, 'ModerateDemented')\n",
        "NonDemented_dir = os.path.join(base_dir, 'NonDemented')\n",
        "VeryMildDemented_dir = os.path.join(base_dir, 'VeryMildDemented')\n",
        "\n",
        "\n",
        "filepaths = []\n",
        "labels = []\n",
        "dict_list = [MildDemented_dir, ModerateDemented_dir, NonDemented_dir, VeryMildDemented_dir]\n",
        "class_labels = ['Mild Demented', 'Moderate Demented', 'Non Demented', 'Very MildDemented']\n",
        "\n",
        "for i, j in enumerate(dict_list):\n",
        "    # Check if the directory exists before listing its contents\n",
        "    if os.path.isdir(j):\n",
        "        flist = os.listdir(j)\n",
        "        for f in flist:\n",
        "            fpath = os.path.join(j, f)\n",
        "            filepaths.append(fpath)\n",
        "            labels.append(class_labels[i])\n",
        "    else:\n",
        "        print(f\"Warning: Directory not found: {j}\") # Optional: Add a warning if a directory is not found\n",
        "\n",
        "\n",
        "Fseries = pd.Series(filepaths, name=\"filepaths\")\n",
        "Lseries = pd.Series(labels, name=\"labels\")\n",
        "Alzheimer_data = pd.concat([Fseries, Lseries], axis=1)\n",
        "Alzheimer_df = pd.DataFrame(Alzheimer_data)\n",
        "print(Alzheimer_df.head())\n",
        "print(Alzheimer_df[\"labels\"].value_counts())"
      ],
      "cell_type": "code",
      "metadata": {
        "colab": {
          "base_uri": "https://localhost:8080/"
        },
        "id": "CYDU4Qz7tNoJ",
        "outputId": "42e471ab-5e27-4434-909c-5f32f49d04ea"
      },
      "execution_count": 210,
      "outputs": [
        {
          "output_type": "stream",
          "name": "stdout",
          "text": [
            "                                           filepaths         labels\n",
            "0  ./alzheimer_data/AugmentedAlzheimerDataset/Mil...  Mild Demented\n",
            "1  ./alzheimer_data/AugmentedAlzheimerDataset/Mil...  Mild Demented\n",
            "2  ./alzheimer_data/AugmentedAlzheimerDataset/Mil...  Mild Demented\n",
            "3  ./alzheimer_data/AugmentedAlzheimerDataset/Mil...  Mild Demented\n",
            "4  ./alzheimer_data/AugmentedAlzheimerDataset/Mil...  Mild Demented\n",
            "labels\n",
            "Non Demented         9600\n",
            "Mild Demented        8960\n",
            "Very MildDemented    8960\n",
            "Moderate Demented    6464\n",
            "Name: count, dtype: int64\n"
          ]
        }
      ]
    },
    {
      "cell_type": "code",
      "source": [
        "Alzheimer_df.shape"
      ],
      "metadata": {
        "colab": {
          "base_uri": "https://localhost:8080/"
        },
        "id": "sX5OtfAduAl4",
        "outputId": "88989226-efec-425c-be92-fb32a977b7c7"
      },
      "execution_count": 206,
      "outputs": [
        {
          "output_type": "execute_result",
          "data": {
            "text/plain": [
              "(33984, 2)"
            ]
          },
          "metadata": {},
          "execution_count": 206
        }
      ]
    },
    {
      "cell_type": "code",
      "source": [
        "train_images, test_images = train_test_split(Alzheimer_df, test_size=0.3, random_state=42)\n",
        "train_set, val_set = train_test_split(Alzheimer_df, test_size=0.2, random_state=42)"
      ],
      "metadata": {
        "id": "iWK33T9au2Tk"
      },
      "execution_count": 211,
      "outputs": []
    },
    {
      "cell_type": "code",
      "source": [
        "print(train_set.shape)\n",
        "print(test_images.shape)\n",
        "print(val_set.shape)\n",
        "print(train_images.shape)"
      ],
      "metadata": {
        "colab": {
          "base_uri": "https://localhost:8080/"
        },
        "id": "-hTLCtp8vLJ0",
        "outputId": "50f06e39-c29c-4ffc-aada-8e025d53c0b4"
      },
      "execution_count": 212,
      "outputs": [
        {
          "output_type": "stream",
          "name": "stdout",
          "text": [
            "(27187, 2)\n",
            "(10196, 2)\n",
            "(6797, 2)\n",
            "(23788, 2)\n"
          ]
        }
      ]
    },
    {
      "cell_type": "code",
      "source": [
        "image_gen = ImageDataGenerator(preprocessing_function= tf.keras.applications.mobilenet_v2.preprocess_input)\n",
        "train = image_gen.flow_from_dataframe(dataframe= train_set,x_col=\"filepaths\",y_col=\"labels\",\n",
        "                                      target_size=(244,244),\n",
        "                                      color_mode='rgb',\n",
        "                                      class_mode=\"categorical\", #used for Sequential Model\n",
        "                                      batch_size=32,\n",
        "                                      shuffle=False            #do not shuffle data\n",
        "                                     )\n",
        "test = image_gen.flow_from_dataframe(dataframe= test_images,x_col=\"filepaths\", y_col=\"labels\",\n",
        "                                     target_size=(244,244),\n",
        "                                     color_mode='rgb',\n",
        "                                     class_mode=\"categorical\",\n",
        "                                     batch_size=32,\n",
        "                                     shuffle= False\n",
        "                                    )\n",
        "val = image_gen.flow_from_dataframe(dataframe= val_set,x_col=\"filepaths\", y_col=\"labels\",\n",
        "                                    target_size=(244,244),\n",
        "                                    color_mode= 'rgb',\n",
        "                                    class_mode=\"categorical\",\n",
        "                                    batch_size=32,\n",
        "                                    shuffle=False\n",
        "                                   )"
      ],
      "metadata": {
        "colab": {
          "base_uri": "https://localhost:8080/"
        },
        "id": "CU8UDMcwvTnV",
        "outputId": "f175fdec-3e58-4b54-dd7b-91d0258b123b"
      },
      "execution_count": 213,
      "outputs": [
        {
          "output_type": "stream",
          "name": "stdout",
          "text": [
            "Found 27187 validated image filenames belonging to 4 classes.\n",
            "Found 10196 validated image filenames belonging to 4 classes.\n",
            "Found 6797 validated image filenames belonging to 4 classes.\n"
          ]
        }
      ]
    },
    {
      "cell_type": "code",
      "source": [
        "classes=list(train.class_indices.keys())\n",
        "print (classes)"
      ],
      "metadata": {
        "colab": {
          "base_uri": "https://localhost:8080/"
        },
        "id": "5vqjYsTSvpAh",
        "outputId": "d5cc1c5c-042b-4135-c587-01b66695ffd1"
      },
      "execution_count": 216,
      "outputs": [
        {
          "output_type": "stream",
          "name": "stdout",
          "text": [
            "['Mild Demented', 'Moderate Demented', 'Non Demented', 'Very MildDemented']\n"
          ]
        }
      ]
    },
    {
      "cell_type": "code",
      "execution_count": 283,
      "metadata": {
        "id": "YVzkZy0GaO1L",
        "colab": {
          "base_uri": "https://localhost:8080/"
        },
        "outputId": "e5dc1148-9d2e-4f3a-dd78-13c26a184313"
      },
      "outputs": [
        {
          "output_type": "stream",
          "name": "stderr",
          "text": [
            "/usr/local/lib/python3.11/dist-packages/keras/src/layers/preprocessing/tf_data_layer.py:19: UserWarning: Do not pass an `input_shape`/`input_dim` argument to a layer. When using Sequential models, prefer using an `Input(shape)` object as the first layer in the model instead.\n",
            "  super().__init__(**kwargs)\n"
          ]
        }
      ],
      "source": [
        "model = models.Sequential([\n",
        "    layers.Rescaling(1./255, input_shape=(244, 244, 3)),\n",
        "\n",
        "    layers.Conv2D(32, (3, 3), activation='relu'),\n",
        "    layers.MaxPooling2D(),\n",
        "\n",
        "    layers.Conv2D(64, (3, 3), activation='relu'),\n",
        "    layers.MaxPooling2D(),\n",
        "\n",
        "    layers.Conv2D(128, (3, 3), activation='relu'),\n",
        "    layers.MaxPooling2D(),\n",
        "\n",
        "    layers.Flatten(),\n",
        "    layers.Dense(128, activation='relu'),\n",
        "    layers.Dropout(0.5),\n",
        "    layers.Dense(4, activation='softmax')  # 4 clases\n",
        "])"
      ]
    },
    {
      "cell_type": "code",
      "source": [
        "model.compile(\n",
        "    optimizer='adam',\n",
        "    loss='categorical_crossentropy',\n",
        "    metrics=['accuracy']\n",
        ")\n",
        "\n",
        "history = model.fit(\n",
        "    train,\n",
        "    validation_data=val,\n",
        "    steps_per_epoch=85,\n",
        "    epochs=5,\n",
        ")\n",
        "\n"
      ],
      "metadata": {
        "colab": {
          "base_uri": "https://localhost:8080/"
        },
        "id": "p0Mxr3azVVmn",
        "outputId": "897a23ee-10bc-497c-ff4a-16064585057b"
      },
      "execution_count": 293,
      "outputs": [
        {
          "output_type": "stream",
          "name": "stdout",
          "text": [
            "Epoch 1/5\n",
            "\u001b[1m85/85\u001b[0m \u001b[32m━━━━━━━━━━━━━━━━━━━━\u001b[0m\u001b[37m\u001b[0m \u001b[1m598s\u001b[0m 7s/step - accuracy: 0.2903 - loss: 1.3724 - val_accuracy: 0.2638 - val_loss: 1.3778\n",
            "Epoch 2/5\n",
            "\u001b[1m85/85\u001b[0m \u001b[32m━━━━━━━━━━━━━━━━━━━━\u001b[0m\u001b[37m\u001b[0m \u001b[1m598s\u001b[0m 7s/step - accuracy: 0.2915 - loss: 1.3714 - val_accuracy: 0.2763 - val_loss: 1.3807\n",
            "Epoch 3/5\n",
            "\u001b[1m85/85\u001b[0m \u001b[32m━━━━━━━━━━━━━━━━━━━━\u001b[0m\u001b[37m\u001b[0m \u001b[1m595s\u001b[0m 7s/step - accuracy: 0.2968 - loss: 1.3768 - val_accuracy: 0.2763 - val_loss: 1.3800\n",
            "Epoch 4/5\n",
            "\u001b[1m85/85\u001b[0m \u001b[32m━━━━━━━━━━━━━━━━━━━━\u001b[0m\u001b[37m\u001b[0m \u001b[1m592s\u001b[0m 7s/step - accuracy: 0.2913 - loss: 1.3760 - val_accuracy: 0.2763 - val_loss: 1.3777\n",
            "Epoch 5/5\n",
            "\u001b[1m85/85\u001b[0m \u001b[32m━━━━━━━━━━━━━━━━━━━━\u001b[0m\u001b[37m\u001b[0m \u001b[1m597s\u001b[0m 7s/step - accuracy: 0.2796 - loss: 1.3719 - val_accuracy: 0.2763 - val_loss: 1.3771\n"
          ]
        }
      ]
    },
    {
      "cell_type": "code",
      "execution_count": 294,
      "metadata": {
        "id": "cFt-n7oQcvJj",
        "colab": {
          "base_uri": "https://localhost:8080/",
          "height": 474
        },
        "outputId": "5781748c-bb95-4d50-f571-f78743f1381f"
      },
      "outputs": [
        {
          "output_type": "display_data",
          "data": {
            "text/plain": [
              "<Figure size 640x480 with 1 Axes>"
            ],
            "image/png": "[encoded data removed]"
          },
          "metadata": {}
        }
      ],
      "source": [
        "plt.plot(history.history['accuracy'], label='Entrenamiento')\n",
        "plt.plot(history.history['val_accuracy'], label='Validación')\n",
        "plt.xlabel('Épocas')\n",
        "plt.ylabel('Precisión')\n",
        "plt.title('Precisión del modelo')\n",
        "plt.legend()\n",
        "plt.grid(True)\n",
        "plt.show()\n"
      ]
    },
    {
      "cell_type": "code",
      "source": [
        "plt.plot(history.history['loss'])\n",
        "plt.plot(history.history['val_loss'])\n",
        "plt.title('model loss')\n",
        "plt.ylabel('loss')\n",
        "plt.xlabel('Épocas')\n",
        "plt.legend(['Entrenamiento', 'Validación'], loc='upper left')\n",
        "plt.show()"
      ],
      "metadata": {
        "colab": {
          "base_uri": "https://localhost:8080/",
          "height": 474
        },
        "id": "cyseiSsHPOyf",
        "outputId": "b0ebf82f-f57f-4272-b92e-b362b58f5d85"
      },
      "execution_count": 295,
      "outputs": [
        {
          "output_type": "display_data",
          "data": {
            "text/plain": [
              "<Figure size 640x480 with 1 Axes>"
            ],
            "image/png": "[encoded data removed]"
          },
          "metadata": {}
        }
      ]
    },
    {
      "cell_type": "code",
      "source": [
        "pred = model.predict(test)\n",
        "pred = np.argmax(pred, axis=1) #pick class with highest  probability\n",
        "\n",
        "labels = (train.class_indices)\n",
        "labels = dict((v,k) for k,v in labels.items())\n",
        "pred2 = [labels[k] for k in pred]"
      ],
      "metadata": {
        "colab": {
          "base_uri": "https://localhost:8080/"
        },
        "id": "6PjwV4bDTaz_",
        "outputId": "6e1c466b-26ed-46ee-b1e8-c2f81a78543e"
      },
      "execution_count": 334,
      "outputs": [
        {
          "output_type": "stream",
          "name": "stdout",
          "text": [
            "\u001b[1m319/319\u001b[0m \u001b[32m━━━━━━━━━━━━━━━━━━━━\u001b[0m\u001b[37m\u001b[0m \u001b[1m395s\u001b[0m 1s/step\n"
          ]
        }
      ]
    },
    {
      "cell_type": "code",
      "source": [
        "test_labels = test_images['labels'].tolist()"
      ],
      "metadata": {
        "id": "xBujn8fAUoES"
      },
      "execution_count": 335,
      "outputs": []
    },
    {
      "cell_type": "code",
      "source": [
        "#Ahora comparar los resultados con la clase verdadera\n",
        "x = pred2[0] # Use pred2 which contains class names\n",
        "y = test_labels[0]\n",
        "print(\"La red dice que la imagen es clase \" + x + \" y la clase verdadera es: \" + y)"
      ],
      "metadata": {
        "colab": {
          "base_uri": "https://localhost:8080/"
        },
        "id": "1N3B3U2TUsLt",
        "outputId": "9a871435-9ce1-4a04-bf0b-89391f22073c"
      },
      "execution_count": 336,
      "outputs": [
        {
          "output_type": "stream",
          "name": "stdout",
          "text": [
            "La red dice que la imagen es clase Non Demented y la clase verdadera es: Non Demented\n"
          ]
        }
      ]
    },
    {
      "cell_type": "code",
      "source": [
        "x = pred2[5]\n",
        "y = test_labels[5]\n",
        "print(\"La red dice que la imagen es clase \" + x + \" y la clase verdadera es: \" + y)"
      ],
      "metadata": {
        "colab": {
          "base_uri": "https://localhost:8080/"
        },
        "id": "tWK9N7AzlgwE",
        "outputId": "cc126e2c-903a-487f-d89c-268851f09f66"
      },
      "execution_count": 337,
      "outputs": [
        {
          "output_type": "stream",
          "name": "stdout",
          "text": [
            "La red dice que la imagen es clase Non Demented y la clase verdadera es: Very MildDemented\n"
          ]
        }
      ]
    },
    {
      "cell_type": "code",
      "source": [
        "x = pred2[10]\n",
        "y = test_labels[10]\n",
        "print(\"La red dice que la imagen es clase \" + x + \" y la clase verdadera es: \" + y)"
      ],
      "metadata": {
        "colab": {
          "base_uri": "https://localhost:8080/"
        },
        "id": "jrbFsHwxlgrH",
        "outputId": "5ea26aac-d27c-4e0f-c4ce-4e244552a04b"
      },
      "execution_count": 338,
      "outputs": [
        {
          "output_type": "stream",
          "name": "stdout",
          "text": [
            "La red dice que la imagen es clase Non Demented y la clase verdadera es: Moderate Demented\n"
          ]
        }
      ]
    },
    {
      "cell_type": "code",
      "source": [
        "x = pred2[20]\n",
        "y = test_labels[20]\n",
        "print(\"La red dice que la imagen es clase \" + x + \" y la clase verdadera es: \" + y)"
      ],
      "metadata": {
        "colab": {
          "base_uri": "https://localhost:8080/"
        },
        "id": "5Lo6n0g8lglm",
        "outputId": "4d488720-7867-4ab1-b81e-f64989260ae0"
      },
      "execution_count": 339,
      "outputs": [
        {
          "output_type": "stream",
          "name": "stdout",
          "text": [
            "La red dice que la imagen es clase Non Demented y la clase verdadera es: Mild Demented\n"
          ]
        }
      ]
    },
    {
      "cell_type": "code",
      "source": [
        "x = pred2[80]\n",
        "y = test_labels[80]\n",
        "print(\"La red dice que la imagen es clase \" + x + \" y la clase verdadera es: \" + y)"
      ],
      "metadata": {
        "colab": {
          "base_uri": "https://localhost:8080/"
        },
        "id": "BoA8p0hLlgdO",
        "outputId": "66792a03-9171-46b7-9091-221151302669"
      },
      "execution_count": 346,
      "outputs": [
        {
          "output_type": "stream",
          "name": "stdout",
          "text": [
            "La red dice que la imagen es clase Non Demented y la clase verdadera es: Non Demented\n"
          ]
        }
      ]
    },
    {
      "source": [
        "x = pred2[90]\n",
        "y = test_labels[90]\n",
        "print(\"La red dice que la imagen es clase \" + x + \" y la clase verdadera es: \" + y)"
      ],
      "cell_type": "code",
      "metadata": {
        "colab": {
          "base_uri": "https://localhost:8080/"
        },
        "id": "wLuZh0MKmDTF",
        "outputId": "7fc3ccd7-ce96-4c77-fa96-99aa50267b20"
      },
      "execution_count": 367,
      "outputs": [
        {
          "output_type": "stream",
          "name": "stdout",
          "text": [
            "La red dice que la imagen es clase Non Demented y la clase verdadera es: Mild Demented\n"
          ]
        }
      ]
    }
  ],
  "metadata": {
    "colab": {
      "provenance": [],
      "authorship_tag": "ABX9TyPowzDVIa91S+zshuIbL6ZU",
      "include_colab_link": true
    },
    "kernelspec": {
      "display_name": "Python 3",
      "name": "python3"
    },
    "language_info": {
      "name": "python"
    }
  },
  "nbformat": 4,
  "nbformat_minor": 0
}
